{
 "cells": [
  {
   "cell_type": "markdown",
   "metadata": {},
   "source": [
    "# 행맨 게임 만들기 "
   ]
  },
  {
   "cell_type": "markdown",
   "metadata": {},
   "source": [
    "## 답안 확인 하기\n",
    "\n",
    "> 행맨 게임을 위한 코드를 작성해봅시다. \n",
    ">\n",
    "> `isanswer(answer, letters)`는 정답 문자열(answer)과 추측 알파벳의 리스트(letters)를 받아서, True/False 결과를 반환합니다."
   ]
  },
  {
   "cell_type": "code",
   "execution_count": null,
   "metadata": {},
   "outputs": [],
   "source": [
    "# 여기에 코드를 작성하세요.\n",
    "def isanswer(answer, letters):\n",
    "    \n",
    "    answer_list = []\n",
    "    \n",
    "    for i in range(len(answer)):\n",
    "        if answer[i] not in answer_list:\n",
    "            answer_list.append(answer[i])\n",
    "\n",
    "    if letters == answer_list:\n",
    "        return True       \n",
    "    \n",
    "    return False"
   ]
  },
  {
   "cell_type": "code",
   "execution_count": null,
   "metadata": {},
   "outputs": [],
   "source": [
    "def isanswer(answer, letters):\n",
    "\n",
    "    answer_list = list(set( i for i in answer ))\n",
    "    \n",
    "    return True if set(answer_list) == set(letters) else False"
   ]
  },
  {
   "cell_type": "code",
   "execution_count": null,
   "metadata": {},
   "outputs": [],
   "source": [
    "def isanswer(answer, letters):\n",
    "  \n",
    "    return True if set(i for i in answer) == set(letters) else False"
   ]
  },
  {
   "cell_type": "code",
   "execution_count": null,
   "metadata": {},
   "outputs": [],
   "source": [
    "# 기회가 남았어도 True가 출력되도록 만들기\n",
    "\n",
    "def isanswer(answer, letters):\n",
    "    # 개수가 있으면 실패(false), 없으면 성공(true)\n",
    "    return not (set(answer) - set(letters))"
   ]
  },
  {
   "cell_type": "code",
   "execution_count": null,
   "metadata": {
    "scrolled": true
   },
   "outputs": [],
   "source": [
    "print(isanswer('apple', ['a', 'p', 'l'])) #=> False\n",
    "print(isanswer('apple', ['a', 'p', 'l', 'e'])) #=> True"
   ]
  },
  {
   "cell_type": "markdown",
   "metadata": {},
   "source": [
    "## 현재 상태 출력하기\n",
    "\n",
    "> 행맨 게임을 위한 코드를 작성해봅시다. \n",
    ">\n",
    "> `status(answer, letters)`는 정답 문자열(answer)과 추측 알파벳의 리스트(letters)를 받아서, 현재 결과를 반환합니다."
   ]
  },
  {
   "cell_type": "code",
   "execution_count": null,
   "metadata": {},
   "outputs": [],
   "source": [
    "# replace\n",
    "def status(answer, letters):\n",
    "    corrects = set(answer) & set(letters)   # 교집합\n",
    "    return ''.join([ i if i in corrects else \"_\" for i in answer])"
   ]
  },
  {
   "cell_type": "code",
   "execution_count": null,
   "metadata": {},
   "outputs": [],
   "source": []
  },
  {
   "cell_type": "code",
   "execution_count": null,
   "metadata": {},
   "outputs": [],
   "source": [
    "status('apple', ['a', 'p', 'l']) #=> 'appl_'"
   ]
  },
  {
   "cell_type": "markdown",
   "metadata": {},
   "source": [
    "## 행맨 로직 만들기 - 자유코딩!\n",
    "\n",
    "> 위의 코드를 활용하여 `hangman(answer)`를 만들어봅시다!\n",
    ">\n",
    "> 사용자가 답을 맞출 때까지 진행하며, 8번내로 정답을 맞춰야 합니다.\n"
   ]
  },
  {
   "cell_type": "code",
   "execution_count": 5,
   "metadata": {},
   "outputs": [],
   "source": [
    "def hangman(answer):\n",
    "\n",
    "    chance = 8\n",
    "    \n",
    "    \n",
    "    while chance > 0:\n",
    "        \n",
    "        while True:\n",
    "            letter = input()\n",
    "\n",
    "            if len(letter) < 2:\n",
    "                print(f'앞으로 기회가 {chance}번 남았습니다.')\n",
    "                break\n",
    "            else:\n",
    "                print(f'한 글자만 입력해주세요.')\n",
    "        \n",
    "        user = set([ i for i in letter ])\n",
    "        corrects = set(answer) & set(user)\n",
    "        string = ''.join([ i if i in corrects else \"_\" for i in answer])\n",
    "        \n",
    "        if string == len(answer):\n",
    "            print(string)\n",
    "            print(\"축하합니다!\")\n",
    "            break\n",
    "        else:\n",
    "            chance -= 1\n",
    "            print(string)\n",
    "            print(f\"틀렸습니다! 앞으로 기회가 {chance}번 남았습니다.\")\n",
    "            "
   ]
  },
  {
   "cell_type": "code",
   "execution_count": 6,
   "metadata": {},
   "outputs": [
    {
     "name": "stdout",
     "output_type": "stream",
     "text": [
      "a\n",
      "앞으로 기회가 8번 남았습니다.\n",
      "a____\n",
      "틀렸습니다! 앞으로 기회가 7번 남았습니다.\n",
      "b\n",
      "앞으로 기회가 7번 남았습니다.\n",
      "_____\n",
      "틀렸습니다! 앞으로 기회가 6번 남았습니다.\n",
      "c\n",
      "앞으로 기회가 6번 남았습니다.\n",
      "_____\n",
      "틀렸습니다! 앞으로 기회가 5번 남았습니다.\n",
      "dd\n",
      "한 글자만 입력해주세요.\n",
      "b\n",
      "앞으로 기회가 5번 남았습니다.\n",
      "_____\n",
      "틀렸습니다! 앞으로 기회가 4번 남았습니다.\n",
      "c\n",
      "앞으로 기회가 4번 남았습니다.\n",
      "_____\n",
      "틀렸습니다! 앞으로 기회가 3번 남았습니다.\n",
      "d\n",
      "앞으로 기회가 3번 남았습니다.\n",
      "_____\n",
      "틀렸습니다! 앞으로 기회가 2번 남았습니다.\n",
      "e\n",
      "앞으로 기회가 2번 남았습니다.\n",
      "____e\n",
      "틀렸습니다! 앞으로 기회가 1번 남았습니다.\n",
      "a\n",
      "앞으로 기회가 1번 남았습니다.\n",
      "a____\n",
      "틀렸습니다! 앞으로 기회가 0번 남았습니다.\n"
     ]
    }
   ],
   "source": [
    "hangman('apple')"
   ]
  },
  {
   "cell_type": "code",
   "execution_count": null,
   "metadata": {},
   "outputs": [],
   "source": []
  }
 ],
 "metadata": {
  "kernelspec": {
   "display_name": "Python 3",
   "language": "python",
   "name": "python3"
  },
  "language_info": {
   "codemirror_mode": {
    "name": "ipython",
    "version": 3
   },
   "file_extension": ".py",
   "mimetype": "text/x-python",
   "name": "python",
   "nbconvert_exporter": "python",
   "pygments_lexer": "ipython3",
   "version": "3.6.7"
  },
  "latex_envs": {
   "LaTeX_envs_menu_present": true,
   "autoclose": false,
   "autocomplete": true,
   "bibliofile": "biblio.bib",
   "cite_by": "apalike",
   "current_citInitial": 1,
   "eqLabelWithNumbers": true,
   "eqNumInitial": 1,
   "hotkeys": {
    "equation": "Ctrl-E",
    "itemize": "Ctrl-I"
   },
   "labels_anchors": false,
   "latex_user_defs": false,
   "report_style_numbering": false,
   "user_envs_cfg": false
  },
  "toc": {
   "base_numbering": 1,
   "nav_menu": {},
   "number_sections": true,
   "sideBar": true,
   "skip_h1_title": false,
   "title_cell": "Table of Contents",
   "title_sidebar": "Contents",
   "toc_cell": false,
   "toc_position": {},
   "toc_section_display": true,
   "toc_window_display": false
  }
 },
 "nbformat": 4,
 "nbformat_minor": 2
}
