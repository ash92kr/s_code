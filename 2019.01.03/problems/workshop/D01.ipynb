{
 "cells": [
  {
   "cell_type": "markdown",
   "metadata": {},
   "source": [
    "## D01 WORKSHOP"
   ]
  },
  {
   "cell_type": "markdown",
   "metadata": {},
   "source": [
    "**문제 0**\n",
    "- 1월부터 12월까지 다음과 같은 형태로 달력이 출력되도록 코드를 작성하세요.\n",
    "```bash\n",
    "1 월\n",
    "일 월 화 수 목 금 토\n",
    "1 2 3 4 5 6 7\n",
    "8 9 10 11 12 13 14\n",
    "15 16 17 18 19 20 21\n",
    "22 23 24 25 26 27 28\n",
    "29 30 31\n",
    "2 월\n",
    "일 월 화 수 목 금 토\n",
    "1 2 3 4 5 6 7\n",
    "8 9 10 11 12 13 14\n",
    "15 16 17 18 19 20 21\n",
    "22 23 24 25 26 27 28\n",
    "```"
   ]
  },
  {
   "cell_type": "code",
   "execution_count": 172,
   "metadata": {},
   "outputs": [
    {
     "name": "stdout",
     "output_type": "stream",
     "text": [
      "1 월\n",
      "일 월 화 수 목 금 토 \n",
      "1 2 3 4 5 6 7\n",
      "8 9 10 11 12 13 14\n",
      "15 16 17 18 19 20 21\n",
      "22 23 24 25 26 27 28\n",
      "29 30 31 \n",
      "2 월\n",
      "일 월 화 수 목 금 토 \n",
      "1 2 3 4 5 6 7\n",
      "8 9 10 11 12 13 14\n",
      "15 16 17 18 19 20 21\n",
      "22 23 24 25 26 27 28 \n",
      "3 월\n",
      "일 월 화 수 목 금 토 \n",
      "1 2 3 4 5 6 7\n",
      "8 9 10 11 12 13 14\n",
      "15 16 17 18 19 20 21\n",
      "22 23 24 25 26 27 28\n",
      "29 30 31 \n",
      "4 월\n",
      "일 월 화 수 목 금 토 \n",
      "1 2 3 4 5 6 7\n",
      "8 9 10 11 12 13 14\n",
      "15 16 17 18 19 20 21\n",
      "22 23 24 25 26 27 28\n",
      "29 30 \n",
      "5 월\n",
      "일 월 화 수 목 금 토 \n",
      "1 2 3 4 5 6 7\n",
      "8 9 10 11 12 13 14\n",
      "15 16 17 18 19 20 21\n",
      "22 23 24 25 26 27 28\n",
      "29 30 31 \n",
      "6 월\n",
      "일 월 화 수 목 금 토 \n",
      "1 2 3 4 5 6 7\n",
      "8 9 10 11 12 13 14\n",
      "15 16 17 18 19 20 21\n",
      "22 23 24 25 26 27 28\n",
      "29 30 \n",
      "7 월\n",
      "일 월 화 수 목 금 토 \n",
      "1 2 3 4 5 6 7\n",
      "8 9 10 11 12 13 14\n",
      "15 16 17 18 19 20 21\n",
      "22 23 24 25 26 27 28\n",
      "29 30 31 \n",
      "8 월\n",
      "일 월 화 수 목 금 토 \n",
      "1 2 3 4 5 6 7\n",
      "8 9 10 11 12 13 14\n",
      "15 16 17 18 19 20 21\n",
      "22 23 24 25 26 27 28\n",
      "29 30 31 \n",
      "9 월\n",
      "일 월 화 수 목 금 토 \n",
      "1 2 3 4 5 6 7\n",
      "8 9 10 11 12 13 14\n",
      "15 16 17 18 19 20 21\n",
      "22 23 24 25 26 27 28\n",
      "29 30 \n",
      "10 월\n",
      "일 월 화 수 목 금 토 \n",
      "1 2 3 4 5 6 7\n",
      "8 9 10 11 12 13 14\n",
      "15 16 17 18 19 20 21\n",
      "22 23 24 25 26 27 28\n",
      "29 30 31 \n",
      "11 월\n",
      "일 월 화 수 목 금 토 \n",
      "1 2 3 4 5 6 7\n",
      "8 9 10 11 12 13 14\n",
      "15 16 17 18 19 20 21\n",
      "22 23 24 25 26 27 28\n",
      "29 30 \n",
      "12 월\n",
      "일 월 화 수 목 금 토 \n",
      "1 2 3 4 5 6 7\n",
      "8 9 10 11 12 13 14\n",
      "15 16 17 18 19 20 21\n",
      "22 23 24 25 26 27 28\n",
      "29 30 31 \n"
     ]
    }
   ],
   "source": [
    "# 정답\n",
    "\n",
    "week = ['일', '월', '화', '수', '목', '금', '토']\n",
    "month = [1, 2, 3, 4, 5, 6, 7, 8, 9, 10, 11, 12]  # 딕셔너리\n",
    "day = 0\n",
    "\n",
    "for i in range(len(month)):\n",
    "    print(f\"{i+1} 월\")\n",
    "    \n",
    "    for j in range(len(week)):\n",
    "        print(week[j], end=\" \")\n",
    "    print()\n",
    "    \n",
    "    if month[i] in [1, 3, 5, 7, 8, 10, 12]:\n",
    "        day = 31\n",
    "    elif month[i] in [4, 6, 9, 11]:\n",
    "        day = 30\n",
    "    else:\n",
    "        day = 28\n",
    "    \n",
    "    for k in range(1, day+1):\n",
    "        if (k % 7 != 0 and k != 0) or (month[i] == 2 and k == 28):\n",
    "            print(k, end=\" \")\n",
    "        else:\n",
    "            print(k, end=\"\\n\")\n",
    "    print()"
   ]
  },
  {
   "cell_type": "code",
   "execution_count": 180,
   "metadata": {},
   "outputs": [
    {
     "name": "stdout",
     "output_type": "stream",
     "text": [
      "1 월\n",
      "일 월 화 수 목 금 토 \n",
      "1 2 3 4 5 6 7 \n",
      "8 9 10 11 12 13 14 \n",
      "15 16 17 18 19 20 21 \n",
      "22 23 24 25 26 27 28 \n",
      "29 30 31 \n",
      "\n",
      "2 월\n",
      "일 월 화 수 목 금 토 \n",
      "1 2 3 4 5 6 7 \n",
      "8 9 10 11 12 13 14 \n",
      "15 16 17 18 19 20 21 \n",
      "22 23 24 25 26 27 28 \n",
      "\n",
      "\n",
      "3 월\n",
      "일 월 화 수 목 금 토 \n",
      "1 2 3 4 5 6 7 \n",
      "8 9 10 11 12 13 14 \n",
      "15 16 17 18 19 20 21 \n",
      "22 23 24 25 26 27 28 \n",
      "29 30 31 \n",
      "\n",
      "4 월\n",
      "일 월 화 수 목 금 토 \n",
      "1 2 3 4 5 6 7 \n",
      "8 9 10 11 12 13 14 \n",
      "15 16 17 18 19 20 21 \n",
      "22 23 24 25 26 27 28 \n",
      "29 30 \n",
      "\n",
      "5 월\n",
      "일 월 화 수 목 금 토 \n",
      "1 2 3 4 5 6 7 \n",
      "8 9 10 11 12 13 14 \n",
      "15 16 17 18 19 20 21 \n",
      "22 23 24 25 26 27 28 \n",
      "29 30 31 \n",
      "\n",
      "6 월\n",
      "일 월 화 수 목 금 토 \n",
      "1 2 3 4 5 6 7 \n",
      "8 9 10 11 12 13 14 \n",
      "15 16 17 18 19 20 21 \n",
      "22 23 24 25 26 27 28 \n",
      "29 30 \n",
      "\n",
      "7 월\n",
      "일 월 화 수 목 금 토 \n",
      "1 2 3 4 5 6 7 \n",
      "8 9 10 11 12 13 14 \n",
      "15 16 17 18 19 20 21 \n",
      "22 23 24 25 26 27 28 \n",
      "29 30 31 \n",
      "\n",
      "8 월\n",
      "일 월 화 수 목 금 토 \n",
      "1 2 3 4 5 6 7 \n",
      "8 9 10 11 12 13 14 \n",
      "15 16 17 18 19 20 21 \n",
      "22 23 24 25 26 27 28 \n",
      "29 30 31 \n",
      "\n",
      "9 월\n",
      "일 월 화 수 목 금 토 \n",
      "1 2 3 4 5 6 7 \n",
      "8 9 10 11 12 13 14 \n",
      "15 16 17 18 19 20 21 \n",
      "22 23 24 25 26 27 28 \n",
      "29 30 \n",
      "\n",
      "10 월\n",
      "일 월 화 수 목 금 토 \n",
      "1 2 3 4 5 6 7 \n",
      "8 9 10 11 12 13 14 \n",
      "15 16 17 18 19 20 21 \n",
      "22 23 24 25 26 27 28 \n",
      "29 30 31 \n",
      "\n",
      "11 월\n",
      "일 월 화 수 목 금 토 \n",
      "1 2 3 4 5 6 7 \n",
      "8 9 10 11 12 13 14 \n",
      "15 16 17 18 19 20 21 \n",
      "22 23 24 25 26 27 28 \n",
      "29 30 \n",
      "\n",
      "12 월\n",
      "일 월 화 수 목 금 토 \n",
      "1 2 3 4 5 6 7 \n",
      "8 9 10 11 12 13 14 \n",
      "15 16 17 18 19 20 21 \n",
      "22 23 24 25 26 27 28 \n",
      "29 30 31 \n",
      "\n"
     ]
    }
   ],
   "source": [
    "calender = {\n",
    "    1:31, 2:28, 3:31, 4:30, 5:31, 6:30,\n",
    "    7:31, 8:31, 9:30, 10:31, 11:30, 12:31\n",
    "}\n",
    "\n",
    "weeks = ['일', '월', '화', '수', '목', '금', '토']\n",
    "\n",
    "\n",
    "for month, count_day in calender.items():\n",
    "    count = 0\n",
    "    print(month, '월')\n",
    "    for day in weeks:\n",
    "        print(day, end=' ')\n",
    "    print()\n",
    "\n",
    "    for i in range(1, count_day + 1):\n",
    "        print(i, end=\" \")\n",
    "        count += 1\n",
    "        if count == 7:    # count가 7이 되면 개행\n",
    "            print()\n",
    "            count = 0   # count 초기화\n",
    "    print(end='\\n\\n')"
   ]
  },
  {
   "cell_type": "markdown",
   "metadata": {},
   "source": [
    "**문제 1**\n",
    "- 두 개의 정수 n과 m이 주어집니다. 반복문을 사용하지 않고 별(*) 문자를 이용해 가로의 길이가 n, 세로의 길이가 m인 직사각형 형태를 출력해보세요."
   ]
  },
  {
   "cell_type": "code",
   "execution_count": 2,
   "metadata": {},
   "outputs": [],
   "source": [
    "# 문제\n",
    "n = 5\n",
    "m = 9"
   ]
  },
  {
   "cell_type": "code",
   "execution_count": 181,
   "metadata": {},
   "outputs": [
    {
     "name": "stdout",
     "output_type": "stream",
     "text": [
      "*****\n",
      "*****\n",
      "*****\n",
      "*****\n",
      "*****\n",
      "*****\n",
      "*****\n",
      "*****\n",
      "*****\n",
      "\n"
     ]
    }
   ],
   "source": [
    "# 정답\n",
    "# for i in range(n):\n",
    "#     for j in range(m):\n",
    "#         print(\"*\", end=\" \")\n",
    "#     print()\n",
    "\n",
    "print(('*' * n + '\\n') * m)    # 문자열 결합 시 +"
   ]
  },
  {
   "cell_type": "markdown",
   "metadata": {},
   "source": [
    "**문제2**\n",
    "- 다음 딕셔너리에서 평균 점수를 출력하시오."
   ]
  },
  {
   "cell_type": "code",
   "execution_count": 4,
   "metadata": {},
   "outputs": [],
   "source": [
    "# 문제\n",
    "student = {'python': 80, 'algorithm': 99, 'django': 89, 'flask': 83}"
   ]
  },
  {
   "cell_type": "code",
   "execution_count": 21,
   "metadata": {},
   "outputs": [
    {
     "name": "stdout",
     "output_type": "stream",
     "text": [
      "87.75\n"
     ]
    }
   ],
   "source": [
    "# 정답\n",
    "\n",
    "sum = 0\n",
    "for v in student.values():\n",
    "    sum += v\n",
    "\n",
    "average = sum / len(student.keys())\n",
    "print(average)"
   ]
  },
  {
   "cell_type": "markdown",
   "metadata": {},
   "source": [
    "**문제3**\n",
    "- 다음은 학생들의 혈액형(A, B, AB, O)에 대한 데이터이다. for문을 이용하여 각 혈액형 별 학생수의 합계를 구하시오."
   ]
  },
  {
   "cell_type": "code",
   "execution_count": 7,
   "metadata": {},
   "outputs": [],
   "source": [
    "# 문제\n",
    "blood_types = ['A', 'B', 'A', 'O', 'AB', 'AB', 'O', 'A', 'B', 'O', 'B', 'AB']"
   ]
  },
  {
   "cell_type": "code",
   "execution_count": 28,
   "metadata": {},
   "outputs": [
    {
     "name": "stdout",
     "output_type": "stream",
     "text": [
      "3 3 3 3\n"
     ]
    }
   ],
   "source": [
    "# 정답\n",
    "\n",
    "blood = ['A', 'B', 'O', 'AB']\n",
    "\n",
    "count_A = 0\n",
    "count_B = 0\n",
    "count_O = 0\n",
    "count_AB = 0\n",
    "\n",
    "for i in blood_types:\n",
    "    if i == blood[0]:\n",
    "        count_A += 1\n",
    "    elif i == blood[1]:\n",
    "        count_B += 1\n",
    "    elif i == blood[2]:\n",
    "        count_O += 1\n",
    "    else:\n",
    "        count_AB += 1\n",
    "\n",
    "print(count_A, count_B, count_O, count_AB)\n",
    "    "
   ]
  },
  {
   "cell_type": "code",
   "execution_count": 183,
   "metadata": {},
   "outputs": [
    {
     "name": "stdout",
     "output_type": "stream",
     "text": [
      "{'A': 3, 'B': 3, 'O': 3, 'AB': 3}\n"
     ]
    }
   ],
   "source": [
    "result = {}\n",
    "\n",
    "for blood_type in blood_types:\n",
    "    if blood_type in result:\n",
    "        result[blood_type] += 1   # 키 값이 존재하면 value를 1 추가\n",
    "    else:\n",
    "        result[blood_type] = 1   # 키 값이 없으면 value로 1을 준다\n",
    "\n",
    "print(result)"
   ]
  },
  {
   "cell_type": "code",
   "execution_count": null,
   "metadata": {},
   "outputs": [],
   "source": []
  }
 ],
 "metadata": {
  "kernelspec": {
   "display_name": "Python 3",
   "language": "python",
   "name": "python3"
  },
  "language_info": {
   "codemirror_mode": {
    "name": "ipython",
    "version": 3
   },
   "file_extension": ".py",
   "mimetype": "text/x-python",
   "name": "python",
   "nbconvert_exporter": "python",
   "pygments_lexer": "ipython3",
   "version": "3.6.7"
  },
  "toc": {
   "base_numbering": 1,
   "nav_menu": {},
   "number_sections": true,
   "sideBar": true,
   "skip_h1_title": false,
   "title_cell": "Table of Contents",
   "title_sidebar": "Contents",
   "toc_cell": false,
   "toc_position": {},
   "toc_section_display": true,
   "toc_window_display": false
  }
 },
 "nbformat": 4,
 "nbformat_minor": 2
}
