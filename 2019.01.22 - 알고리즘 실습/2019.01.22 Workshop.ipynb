{
 "cells": [
  {
   "cell_type": "markdown",
   "metadata": {},
   "source": [
    "(1259)\n",
    "\n",
    "원형 금속 막대를 가장 길게 연결하고자 한다. 원형 금속 막대는 한 쪽 면에 수나사와 다른 쪽에 암나사로 이루어져 있다.\n",
    "\n",
    "수나사와 암나사는 굵기가 서로 다르다. 아래 그림에서 수나사의 굵기는 3을 암나사의 굵기는 4를 나타내고 있다.\n",
    "\n",
    "이후 나사의 굵기를 수나사의 굵기 x 암나사의 굵기로 표현한다. 연결은 +로 표현한다.\n",
    " \n",
    "\n",
    " \n",
    "\n",
    "이와 같은 원형 금속 막대를 연결하기 위해서는 수나사의 굵기와 암나사의 굵기가 서로 일치해야 한다.\n",
    "\n",
    "예를 들어 두 개의 원형 금속 막대 3x4와 4x5가 있을 때 3x4+4x5로 연결해야 연결되며 4x5+3x4로 연결하면 연결되지 않는다.\n",
    " \n",
    "\n",
    "\n",
    "수나사와 암나사의 크기가 서로 다른 여러 개의 원형 금속 막대를 가장 많이 연결하려고 한다.\n",
    "\n",
    "어떤 순서로 연결해야 가장 많이 연결하는지를 찾는 프로그램을 작성하시오.\n",
    "\n",
    "[입력]\n",
    "\n",
    "맨 첫 줄에는 테스트 케이스의 개수가 주어진다.\n",
    "\n",
    "그리고 테스트 케이스가 각 라인에 주어진다. 각 테스트 케이스는 2줄로 구성되며, 첫 줄에는 원형 금속 막대의 개수 n이 주어지고, 다음 줄에는 2n개의 수가 주어진다. \n",
    "\n",
    "숫자는 공백으로 구분한다. 앞에서부터 2개씩 하나의 원형 금속 막대의 수나사 굵기와 암나사 굵기를 의미한다.\n",
    " \n",
    "[출력]\n",
    "\n",
    "각 테스트 케이스 각각에 대한 답을 출력한다.\n",
    "\n",
    "각 줄은 ‘#x’로 시작하고 공백을 하나 둔 다음, 각 테스트 케이스에 주어진 수열로부터 가장 많이 연결하기 위한 원형 금속 막대의 수나사 굵기와 암나사 굵기를 순서대로 출력한다."
   ]
  },
  {
   "cell_type": "code",
   "execution_count": null,
   "metadata": {},
   "outputs": [],
   "source": [
    "T = 1\n",
    "# N = 3\n",
    "# A = [3, 4, 2, 3, 4, 5]\n",
    "N = 4\n",
    "A = [1, 2, 5, 1, 2, 4, 4, 3]\n",
    "# 6\n",
    "# 1 2 2 3 8 1 3 7 5 8 9 5\n",
    "# 10\n",
    "# 1 8 2 5 11 1 12 2 5 6 8 4 6 9 4 15 9 10 10 11\n",
    "# 8\n",
    "# 1 6 10 2 2 15 6 11 7 14 11 10 17 7 15 17\n",
    "# 10\n",
    "# 1 10 16 1 7 4 4 18 11 7 6 16 18 6 12 11 15 12 13 15\n",
    "# 13\n",
    "# 1 13 6 3 19 1 3 12 12 4 8 6 4 14 7 11 15 8 14 10 11 15 10 19 13 20\n",
    "# 15\n",
    "# 2 1 3 4 1 22 4 13 8 9 25 3 12 8 9 11 10 17 15 12 13 15 11 18 22 10 18 23 17 25\n",
    "# 18\n",
    "# 8 2 3 7 4 10 15 3 9 6 14 4 11 8 7 16 6 21 16 9 10 17 21 14 27 11 17 18 18 20 26 15 20 23 23 27\n",
    "# 20\n",
    "# 2 1 13 2 5 6 4 13 14 5 6 15 25 4 9 16 21 8 12 14 16 11 22 9 20 10 10 21 8 29 11 25 15 22 30 12 29 28 28 30  "
   ]
  },
  {
   "cell_type": "code",
   "execution_count": 33,
   "metadata": {},
   "outputs": [
    {
     "name": "stdout",
     "output_type": "stream",
     "text": [
      "[5, 1, 1, 2, 2, 4, 4, 3]\n",
      "#1 5 1 1 2 2 4 4 3 \n"
     ]
    }
   ],
   "source": [
    "# T = int(input())\n",
    "\n",
    "for test_case in range(1, T+1):\n",
    "\n",
    "#     N = int(input())\n",
    "#     A = list(map(int, input().split()))    # 정렬 전 리스트\n",
    "    B = []   # 정렬 후의 리스트\n",
    "    \n",
    "    for i in range(len(A)):\n",
    "        if i % 2 == 0 and A.count(A[i]) == 1:   # 인덱스가 짝수(끝값 제외)이고 A에 있는 원소 개수가 1개인 경우\n",
    "            B.append(A[i])   # 시작점\n",
    "            B.append(A[i+1])   # 시작점과 연결되는 나사\n",
    "    \n",
    "#     print(A, B)\n",
    "    \n",
    "    while set(A) != set(B):    # 리스트를 세트로 바꿔서 원소가 같으면 종료\n",
    "        \n",
    "        for i in range(len(A)):    # 정렬 전의 리스트만큼 반복하면서 짝수인 인덱스와 B의 마지막 값과 같은 경우 B리스트에 추가\n",
    "            if i % 2 == 0 and A[i] == B[-1]:\n",
    "                B.append(A[i])\n",
    "                B.append(A[i+1])\n",
    "    \n",
    "#     print(B)\n",
    "    \n",
    "    print(f'#{test_case}', end=\" \")   # 출력\n",
    "    \n",
    "    for i in range(len(A)):\n",
    "        print(f'{B[i]}', end=\" \")\n",
    "    \n",
    "    print()"
   ]
  },
  {
   "cell_type": "code",
   "execution_count": 4,
   "metadata": {},
   "outputs": [
    {
     "name": "stdout",
     "output_type": "stream",
     "text": [
      "[2, 3]\n",
      "[2, 3, 3, 4]\n",
      "[2, 3, 3, 4]\n",
      "[2, 3, 3, 4]\n",
      "[2, 3, 3, 4]\n",
      "[2, 3, 3, 4, 4, 5]\n",
      "[2, 3, 3, 4, 4, 5]\n",
      "#1 2 3 3 4 4 5\n"
     ]
    }
   ],
   "source": [
    "for test_case in range(T):\n",
    "#     N = int(input())\n",
    "#     nasa = list(map(int, input().split()))\n",
    "    new_nasa = []\n",
    "    # 겹치지지 않는 시작값\n",
    "    for i in range(len(nasa)):\n",
    "        if i%2 == 0 and nasa.count(nasa[i]) == 1:\n",
    "            new_nasa.append(nasa[i])\n",
    "            new_nasa.append(nasa[i+1])\n",
    "            \n",
    "    print(new_nasa)\n",
    "    # 뒤에 오는값 더하기\n",
    "    while len(nasa) != len(new_nasa):\n",
    "        for i in range(len(nasa)):\n",
    "            if i%2 == 0 and nasa[i] == new_nasa[-1]:\n",
    "                new_nasa.append(nasa[i])\n",
    "                new_nasa.append(nasa[i+1])\n",
    "            print(new_nasa)\n",
    "    print(f'#{test_case + 1} {\" \".join(map(str, new_nasa))}')"
   ]
  },
  {
   "cell_type": "code",
   "execution_count": null,
   "metadata": {},
   "outputs": [],
   "source": []
  }
 ],
 "metadata": {
  "kernelspec": {
   "display_name": "Python 3",
   "language": "python",
   "name": "python3"
  },
  "language_info": {
   "codemirror_mode": {
    "name": "ipython",
    "version": 3
   },
   "file_extension": ".py",
   "mimetype": "text/x-python",
   "name": "python",
   "nbconvert_exporter": "python",
   "pygments_lexer": "ipython3",
   "version": "3.6.7"
  }
 },
 "nbformat": 4,
 "nbformat_minor": 2
}
