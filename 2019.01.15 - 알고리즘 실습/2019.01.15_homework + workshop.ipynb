{
 "cells": [
  {
   "cell_type": "markdown",
   "metadata": {},
   "source": [
    "## 주의! 기본 연산자 및 int, str, list 등의 내장 함수 제외하고 import 사용 금지(+sort 등 포함)"
   ]
  },
  {
   "cell_type": "raw",
   "metadata": {},
   "source": []
  },
  {
   "cell_type": "markdown",
   "metadata": {},
   "source": [
    "(4828. [파이썬 S/W 문제해결 기본] 1일차 - min max)\n",
    "\n",
    "N개의 양의 정수에서 가장 큰 수와 가장 작은 수의 차이를 출력하시오.\n",
    "\n",
    "\n",
    "[입력]\n",
    "\n",
    "첫 줄에 테스트 케이스의 수 T가 주어진다. ( 1 ≤ T ≤ 50 )\n",
    "\n",
    "각 케이스의 첫 줄에 양수의 개수 N이 주어진다. ( 5 ≤ N ≤ 1000 )\n",
    "\n",
    "다음 줄에 N개의 양수 ai가 주어진다. ( 1 ≤ ai≤ 1000000 )\n",
    "\n",
    "[출력]\n",
    "\n",
    "각 줄마다 \"#T\" (T는 테스트 케이스 번호)를 출력한 뒤, 답을 출력한다."
   ]
  },
  {
   "cell_type": "code",
   "execution_count": null,
   "metadata": {},
   "outputs": [],
   "source": [
    "T = int(input())\n",
    "\n",
    "for i in range(T):  \n",
    "    \n",
    "    max_ai = 0\n",
    "    min_ai = 987654321\n",
    "    max_min = 0\n",
    "    \n",
    "    N = int(input())\n",
    "\n",
    "    ai = list(map(int, input().split()))   # 양수\n",
    "\n",
    "    for j in range(N):\n",
    "       \n",
    "        if ai[j] > max_ai:\n",
    "            max_ai = ai[j]\n",
    "        if ai[j] < min_ai:\n",
    "            min_ai = ai[j]\n",
    "            \n",
    "    max_min = max_ai - min_ai\n",
    "            \n",
    "    print(f'#{i+1} {max_min}')"
   ]
  },
  {
   "cell_type": "code",
   "execution_count": null,
   "metadata": {},
   "outputs": [],
   "source": [
    "3\n",
    "5\n",
    "1 2 3 4 5\n",
    "#1 4\n",
    "5\n",
    "6 7 8 9 10\n",
    "#2 4\n",
    "10\n",
    "1 2 3 4 5 6 7 8 9 10\n",
    "#3 9"
   ]
  },
  {
   "cell_type": "code",
   "execution_count": null,
   "metadata": {},
   "outputs": [],
   "source": []
  },
  {
   "cell_type": "code",
   "execution_count": null,
   "metadata": {},
   "outputs": [],
   "source": []
  },
  {
   "cell_type": "code",
   "execution_count": null,
   "metadata": {},
   "outputs": [],
   "source": []
  },
  {
   "cell_type": "code",
   "execution_count": null,
   "metadata": {},
   "outputs": [],
   "source": []
  },
  {
   "cell_type": "code",
   "execution_count": null,
   "metadata": {},
   "outputs": [],
   "source": []
  },
  {
   "cell_type": "code",
   "execution_count": null,
   "metadata": {},
   "outputs": [],
   "source": []
  },
  {
   "cell_type": "markdown",
   "metadata": {},
   "source": [
    "(4831. [파이썬 S/W 문제해결 기본] 1일차 - 전기버스)\n",
    "\n",
    "A도시는 전기버스를 운행하려고 한다. 전기버스는 한번 충전으로 이동할 수 있는 정류장 수가 정해져 있어서, 중간에 충전기가 설치된 정류장을 만들기로 했다.\n",
    "\n",
    "버스는 0번에서 출발해 종점인 N번 정류장까지 이동하고, 한번 충전으로 최대한 이동할 수 있는 정류장 수 K가 정해져 있다.\n",
    "\n",
    "충전기가 설치된 M개의 정류장 번호가 주어질 때, 최소한 몇 번의 충전을 해야 종점에 도착할 수 있는지 출력하는 프로그램을 만드시오.\n",
    "\n",
    "만약 충전기 설치가 잘못되어 종점에 도착할 수 없는 경우는 0을 출력한다. 출발지에는 항상 충전기가 설치되어 있지만 충전횟수에는 포함하지 않는다.\n",
    " \n",
    "\n",
    "\n",
    "[예시]\n",
    "\n",
    "\n",
    "\n",
    "다음은 K = 3, N = 10, M = 5, 충전기가 설치된 정류장이 1, 3, 5, 7, 9인 경우의 예이다.\n",
    "\n",
    " \n",
    "\n",
    "[입력]\n",
    " \n",
    "\n",
    "첫 줄에 노선 수 T가 주어진다.  ( 1 ≤ T ≤ 50 )\n",
    "\n",
    "\n",
    "각 노선별로 K, N, M이 주어지고, 다음줄에 M개의 정류장 번호가 주어진다. ( 1 ≤ K, N, M ≤ 100 )\n",
    " \n",
    "\n",
    "[출력]\n",
    "\n",
    "\n",
    "#과 노선번호, 빈칸에 이어 최소 충전횟수 또는 0을 출력한다."
   ]
  },
  {
   "cell_type": "code",
   "execution_count": 2,
   "metadata": {},
   "outputs": [],
   "source": [
    "# T = int(input())\n",
    "\n",
    "# for i in range(T):\n",
    "     \n",
    "#     K, N, M = map(int, input().split())   # K = 이동거리, N = 종점, M = 충전소 개수\n",
    "#     M_list = list(map(int, input().split()))   # 충전소 위치\n",
    "    \n",
    "#     count = 0   # 충전횟수\n",
    "#     here = 0   # 버스의 현재 위치(충전소 위치)\n",
    "    \n",
    "#     for j in range(0, M):    # 충전소 개수보다 더 많이 반복할 필요가 없다            \n",
    "#         if here + K >= N:\n",
    "#             print(f'#{i+1} {count}')\n",
    "#             break\n",
    "        \n",
    "#         if here + K < M_list[j+1]:   # M_list[j] = here\n",
    "#             print(f'#{i+1} 0')\n",
    "#             break\n",
    "#         elif here + K == M_list[j+1]:\n",
    "#             here = M_list[j+1]\n",
    "#             count += 1\n",
    "#         else:                   # here + K > M_list[j+1]:\n",
    "#             for k in range(len(M_list)):\n",
    "#                 if here + K > M_list[-1-k]:\n",
    "#                     count += 1\n",
    "#                     break"
   ]
  },
  {
   "cell_type": "code",
   "execution_count": 3,
   "metadata": {},
   "outputs": [],
   "source": [
    "# T = int(input())\n",
    "\n",
    "# for i in range(T):\n",
    "     \n",
    "#     K, N, M = map(int, input().split())   # K = 이동거리, N = 종점, M = 충전소 개수\n",
    "#     M_list = list(map(int, input().split()))   # 충전소 위치\n",
    "# #     M_list = M_list + [0]\n",
    "    \n",
    "#     count = 0  # 충전횟수\n",
    "#     start = 0\n",
    "\n",
    "#     for j in range(0, M):  # 충전소 개수보다 더 많이 반복할 필요가 없다\n",
    "#         if start + K >= N:\n",
    "#             print(f'#{i+1} {count}')\n",
    "#             break\n",
    "        \n",
    "#         if M_list[j] + K < M_list[j+1]:\n",
    "#             print(f'#{i+1} 0')\n",
    "#             break\n",
    "#         elif M_list[j] + K == M_list[j+1]:\n",
    "#             start = M_list[j+1]\n",
    "#             count += 1\n",
    "#         else:\n",
    "#             if j == 0:\n",
    "#                 if start + K > M_list[j]:\n",
    "#                     start = M_list[j]\n",
    "#                     count += 1\n",
    "#             else:\n",
    "#                 M_list[j] + K > M_list[j+1]:\n",
    "#                 for k in range(len(M_list)):\n",
    "#                     if start + K > M_list[-1-k]:\n",
    "#                         start = M_list[-1-k]\n",
    "#                         count += 1\n",
    "#                         break"
   ]
  },
  {
   "cell_type": "code",
   "execution_count": 1,
   "metadata": {},
   "outputs": [
    {
     "name": "stdout",
     "output_type": "stream",
     "text": [
      "1\n",
      "3 10 5\n",
      "1 3 7 8 9\n",
      "#1 0\n"
     ]
    }
   ],
   "source": [
    "T = int(input())\n",
    "\n",
    "for i in range(T):\n",
    "     \n",
    "    K, N, M = map(int, input().split())   # K = 이동거리, N = 종점, M = 충전소 개수\n",
    "    M_list = list(map(int, input().split()))   # 충전소 위치\n",
    "    \n",
    "    count = 0  # 충전 횟수\n",
    "    start = 0  # 현재 위치\n",
    "    \n",
    "    for j in range(M):\n",
    "        if start + K >= M_list[-1-j] and start - M_list[-1-j] < 0:   # 현재 위치에서 K만큼 이동했을 때 M_list[-1-j]보다 커야 함\n",
    "            start = M_list[-1-j]\n",
    "        elif start + K < M_list[0]:   # 현재 위치에서 K만큼 이동하더라도 M_list의 [0]보다 작은 값인 경우 0을 출력\n",
    "            print(f'#{i+1} 0')\n",
    "            count = M    # while문 Pass\n",
    "        \n",
    "    for k in range(1, M-1):\n",
    "        if M_list[k+1] - M_list[k] > K:   # 1 3 7 8 9 사례에서 k+1과 k번째 값의 차이가 K보다 큰 경우 0을 출력\n",
    "            print(f'#{i+1} 0')\n",
    "            count = M    # while문 Pass\n",
    "        \n",
    "    while count < M:\n",
    "        \n",
    "        for l in range(M-1):\n",
    "            if start + K >= M_list[-1-l] and start - M_list[-1-l] < 0:   # 현재 위치에서 K만큼 이동했을 때 M_list의 -1-l보다 큰 경우 + 현재 위치보다 더 작은 값이 되지 않게 막음\n",
    "                start = M_list[-1-l]\n",
    "                count += 1\n",
    "        \n",
    "        if start + K >= N:   # 마지막 충전소에서 K만큼 이동했을 때 종점을 넘어가면 됨(count 추가)\n",
    "            count += 1\n",
    "            print(f'#{i+1} {count}')\n",
    "            break"
   ]
  },
  {
   "cell_type": "code",
   "execution_count": null,
   "metadata": {},
   "outputs": [],
   "source": [
    "4\n",
    "3 10 5\n",
    "1 3 5 7 9\n",
    "3 10 5\n",
    "1 3 7 8 9\n",
    "5 20 5\n",
    "4 7 9 14 17\n",
    "3 5 2\n",
    "1 4"
   ]
  },
  {
   "cell_type": "code",
   "execution_count": null,
   "metadata": {},
   "outputs": [],
   "source": []
  },
  {
   "cell_type": "code",
   "execution_count": null,
   "metadata": {},
   "outputs": [],
   "source": []
  },
  {
   "cell_type": "code",
   "execution_count": null,
   "metadata": {},
   "outputs": [],
   "source": []
  },
  {
   "cell_type": "code",
   "execution_count": null,
   "metadata": {},
   "outputs": [],
   "source": []
  },
  {
   "cell_type": "code",
   "execution_count": null,
   "metadata": {},
   "outputs": [],
   "source": []
  },
  {
   "cell_type": "code",
   "execution_count": null,
   "metadata": {},
   "outputs": [],
   "source": []
  },
  {
   "cell_type": "markdown",
   "metadata": {},
   "source": [
    "(4834. [파이썬 S/W 문제해결 기본] 1일차 - 숫자 카드)\n",
    "\n",
    "0에서 9까지 숫자가 적힌 N장의 카드가 주어진다.\n",
    "\n",
    "가장 많은 카드에 적힌 숫자와 카드가 몇 장인지 출력하는 프로그램을 만드시오. 카드 장수가 같을 때는 적힌 숫자가 큰 쪽을 출력한다.\n",
    "\n",
    "\n",
    "[입력]\n",
    " \n",
    "\n",
    "첫 줄에 테스트 케이스 개수 T가 주어진다.  ( 1 ≤ T ≤ 50 )\n",
    "\n",
    "다음 줄부터 테스트케이스의 첫 줄에 카드 장수 N이 주어진다. ( 5 ≤ N ≤ 100 )\n",
    "\n",
    "다음 줄에 N개의 숫자 ai가 여백없이 주어진다. (0으로 시작할 수도 있다.)  ( 0 ≤ ai ≤ 9 ) \n",
    "\n",
    " \n",
    "[출력]\n",
    " \n",
    "\n",
    "각 줄마다 \"#T\" (T는 테스트 케이스 번호)를 출력한 뒤, 가장 많은 카드의 숫자와 장 수를 차례로 출력한다."
   ]
  },
  {
   "cell_type": "code",
   "execution_count": null,
   "metadata": {},
   "outputs": [],
   "source": [
    "T = int(input())\n",
    "\n",
    "for i in range(T):\n",
    "    \n",
    "    N = int(input())\n",
    "    ai = list(input())    \n",
    "\n",
    "    max_number = 0   # 가장 많이 나온 숫자\n",
    "    count = 0   # 몇 장 나왔는가?\n",
    "    \n",
    "    bi = [0] * 10   # 인덱스 리스트\n",
    "    \n",
    "    for j in range(N):\n",
    "        bi[int(ai[j]) % 10] += 1\n",
    "    \n",
    "    for k in range(len(bi)):\n",
    "        if count < bi[k]:   # bi[k]가 count보다 클 경우 많이 나온 숫자와 몇 장 나왔는지 대체\n",
    "            max_number = k\n",
    "            count = bi[k]\n",
    "        elif count == bi[k]:   # bi[k]가 count와 같다면, 가장 많이 나온 숫자만 대체\n",
    "            if max_number < k:\n",
    "                max_number = k\n",
    "                count = count\n",
    "            \n",
    "    print(f'#{i+1} {max_number} {count}')"
   ]
  },
  {
   "cell_type": "code",
   "execution_count": null,
   "metadata": {},
   "outputs": [],
   "source": [
    "3\n",
    "5\n",
    "49679\n",
    "5\n",
    "08271\n",
    "10\n",
    "7797946543"
   ]
  },
  {
   "cell_type": "code",
   "execution_count": null,
   "metadata": {},
   "outputs": [],
   "source": []
  },
  {
   "cell_type": "code",
   "execution_count": null,
   "metadata": {},
   "outputs": [],
   "source": []
  },
  {
   "cell_type": "code",
   "execution_count": null,
   "metadata": {},
   "outputs": [],
   "source": []
  },
  {
   "cell_type": "code",
   "execution_count": null,
   "metadata": {},
   "outputs": [],
   "source": []
  },
  {
   "cell_type": "code",
   "execution_count": null,
   "metadata": {},
   "outputs": [],
   "source": []
  },
  {
   "cell_type": "code",
   "execution_count": null,
   "metadata": {},
   "outputs": [],
   "source": []
  },
  {
   "cell_type": "markdown",
   "metadata": {},
   "source": [
    "(4835. [파이썬 S/W 문제해결 기본] 1일차 - 구간합)\n",
    "\n",
    "N개의 정수가 들어있는 배열에서 이웃한 M개의 합을 계산하는 것은 디지털 필터링의 기초연산이다.\n",
    "\n",
    "M개의 합이 가장 큰 경우와 가장 작은 경우의 차이를 출력하는 프로그램을 작성하시오.\n",
    " \n",
    "[입력]\n",
    " \n",
    "\n",
    "첫 줄에 테스트 케이스 개수 T가 주어진다.  ( 1 ≤ T ≤ 50 )\n",
    "\n",
    "\n",
    "다음 줄부터 테스트케이스의 첫 줄에 정수의 개수 N과 구간의 개수 M 주어진다. ( 10 ≤ N ≤ 100,  2 ≤ M ＜ N )\n",
    "\n",
    "\n",
    "다음 줄에 N개의 정수 ai가 주어진다. ( 1 ≤ a ≤ 10000 )\n",
    "\n",
    "[출력]\n",
    "\n",
    "각 줄마다 \"#T\" (T는 테스트 케이스 번호)를 출력한 뒤, 답을 출력한다."
   ]
  },
  {
   "cell_type": "code",
   "execution_count": 16,
   "metadata": {},
   "outputs": [
    {
     "name": "stdout",
     "output_type": "stream",
     "text": [
      "1\n",
      "10 5\n",
      "6262 6004 1801 7660 7919 1280 525 9798 5134 1821\n",
      "29646\n",
      "18558\n",
      "#1 11088\n"
     ]
    }
   ],
   "source": [
    "T = int(input())\n",
    "\n",
    "for i in range(T):\n",
    "    \n",
    "    N, M = map(int, input().split())\n",
    "    ai = list(map(int, input().split()))\n",
    "     \n",
    "    mid_sum = 0    # 중간 단계의 합계\n",
    "    max_sum = 0      # 구간합 최대 합계\n",
    "    min_sum = 987654321    # 구간합 최소 합계\n",
    "    part_sum = 0    # 구간합 최대-최소 차이\n",
    "        \n",
    "    for j in range(0, N-M+1):   # 0부터 N-M+1번 반복 실시\n",
    "        mid_sum = 0              # 초기화\n",
    "        for k in range(j, j+M):   # j부터 j+M까지 합계를 구함\n",
    "            mid_sum += ai[k]    \n",
    "        \n",
    "        if mid_sum > max_sum:\n",
    "            max_sum = mid_sum\n",
    "        if mid_sum < min_sum:\n",
    "            min_sum = mid_sum\n",
    "    \n",
    "    part_sum = max_sum - min_sum\n",
    "    \n",
    "    print(f'#{i+1} {part_sum}')"
   ]
  },
  {
   "cell_type": "code",
   "execution_count": null,
   "metadata": {},
   "outputs": [],
   "source": [
    "3\n",
    "10 3\n",
    "1 2 3 4 5 6 7 8 9 10\n",
    "10 5\n",
    "6262 6004 1801 7660 7919 1280 525 9798 5134 1821\n",
    "20 19\n",
    "3266 9419 3087 9001 9321 1341 7379 6236 5795 8910 2990 2152 2249 4059 1394"
   ]
  },
  {
   "cell_type": "code",
   "execution_count": null,
   "metadata": {},
   "outputs": [],
   "source": []
  },
  {
   "cell_type": "code",
   "execution_count": null,
   "metadata": {},
   "outputs": [],
   "source": []
  },
  {
   "cell_type": "code",
   "execution_count": null,
   "metadata": {},
   "outputs": [],
   "source": []
  },
  {
   "cell_type": "code",
   "execution_count": null,
   "metadata": {},
   "outputs": [],
   "source": []
  },
  {
   "cell_type": "code",
   "execution_count": null,
   "metadata": {},
   "outputs": [],
   "source": []
  },
  {
   "cell_type": "code",
   "execution_count": null,
   "metadata": {},
   "outputs": [],
   "source": []
  },
  {
   "cell_type": "markdown",
   "metadata": {},
   "source": [
    "한 쪽 벽면에 다음과 같이 노란색 상자들이 쌓여 있다.\n",
    "\n",
    "높은 곳의 상자를 낮은 곳에 옮기는 방식으로 최고점과 최저점의 간격을 줄이는 작업을 평탄화라고 한다.\n",
    "\n",
    "평탄화를 모두 수행하고 나면, 가장 높은 곳과 가장 낮은 곳의 차이가 최대 1 이내가 된다.\n",
    "\n",
    "평탄화 작업을 위해서 상자를 옮기는 작업 횟수에 제한이 걸려있을 때, 제한된 횟수만큼 옮기는 `작업을 한 후` 최고점과 최저점의 차이를 반환하는 프로그램을 작성하시오.\n",
    "\n",
    "[제약 사항]\n",
    "\n",
    "가로 길이는 항상 100으로 주어진다.\n",
    "\n",
    "모든 위치에서 상자의 높이는 1이상 100이하로 주어진다.\n",
    "\n",
    "덤프 횟수는 1이상 1000이하로 주어진다.\n",
    "\n",
    "주어진 덤프 횟수 이내에 평탄화가 완료되면 더 이상 덤프를 수행할 수 없으므로 그 때의 최고점과 최저점의 높이 차를 반환한다 (주어진 data에 따라 0 또는 1이 된다).\n",
    "\n",
    "[입력]\n",
    "\n",
    "총 10개의 테스트 케이스가 주어지며, 각 테스트 케이스의 첫 번째 줄에는 덤프 횟수가 주어진다. 그리고 다음 줄에 각 상자의 높이값이 주어진다.\n",
    "\n",
    "[출력]\n",
    "\n",
    "#부호와 함께 테스트 케이스의 번호를 출력하고, 공백 문자 후 테스트 케이스의 최고점과 최저점의 높이 차를 출력한다."
   ]
  },
  {
   "cell_type": "code",
   "execution_count": null,
   "metadata": {},
   "outputs": [],
   "source": [
    "T = 10\n",
    " \n",
    "for i in range(T):\n",
    " \n",
    "    dump = int(input())\n",
    "    height = list(map(int, input().split()))\n",
    " \n",
    "    flatten = 0   # 평탄화 높이\n",
    " \n",
    "    count = 0\n",
    " \n",
    "    while True:\n",
    " \n",
    "        for j in range(len(height)-1, 0, -1):\n",
    "            for k in range(0, j):\n",
    "                if height[k] > height[k+1]:\n",
    "                    height[k], height[k+1] = height[k+1], height[k]\n",
    " \n",
    "        height[0] += 1\n",
    "        height[-1] -= 1\n",
    " \n",
    "        count += 1\n",
    "        flatten = height[-2] - height[1]\n",
    "        # -1과 0은 각각 +1과 -1이 실행되었으므로 그 전과 그 후의 값으로 max-min을 구함\n",
    " \n",
    "        if count == dump:\n",
    "            break\n",
    " \n",
    "    print(f'#{i+1} {flatten}')"
   ]
  },
  {
   "cell_type": "code",
   "execution_count": null,
   "metadata": {},
   "outputs": [],
   "source": []
  },
  {
   "cell_type": "code",
   "execution_count": null,
   "metadata": {},
   "outputs": [],
   "source": []
  },
  {
   "cell_type": "code",
   "execution_count": null,
   "metadata": {},
   "outputs": [],
   "source": []
  },
  {
   "cell_type": "code",
   "execution_count": null,
   "metadata": {},
   "outputs": [],
   "source": []
  },
  {
   "cell_type": "code",
   "execution_count": null,
   "metadata": {},
   "outputs": [],
   "source": []
  },
  {
   "cell_type": "code",
   "execution_count": null,
   "metadata": {},
   "outputs": [],
   "source": []
  }
 ],
 "metadata": {
  "kernelspec": {
   "display_name": "Python 3",
   "language": "python",
   "name": "python3"
  },
  "language_info": {
   "codemirror_mode": {
    "name": "ipython",
    "version": 3
   },
   "file_extension": ".py",
   "mimetype": "text/x-python",
   "name": "python",
   "nbconvert_exporter": "python",
   "pygments_lexer": "ipython3",
   "version": "3.6.7"
  }
 },
 "nbformat": 4,
 "nbformat_minor": 2
}
