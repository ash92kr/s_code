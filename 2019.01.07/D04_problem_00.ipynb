{
 "cells": [
  {
   "cell_type": "markdown",
   "metadata": {},
   "source": [
    "## 최대공약수, 최소공배수 구하기\n",
    "\n",
    "> 두 수를 입력받아 두 수의 최대공약수와 최소공배수를 반환하는 함수, gcdlcm을 완성해 보세요.\n",
    ">\n",
    "> 배열의 맨 앞에 최대공약수, 그다음 최소공배수를 넣어 반환하면 됩니다. \n",
    ">\n",
    "> 예를 들어 두 수 3, 12의 최대공약수는 3, 최소공배수는 12이므로 `gcdlcm(3, 12)`는 `[3, 12]`를 반환해야 합니다. \n",
    "\n",
    "예시)\n",
    "\n",
    "```python\n",
    "gcdlcm(3, 12) #=> [3, 12]\n",
    "gcdlcm(1071, 1029) #=> [21, 52479]\n",
    "```"
   ]
  },
  {
   "cell_type": "code",
   "execution_count": 17,
   "metadata": {},
   "outputs": [],
   "source": [
    "# 여기에 코드를 작성하세요.\n",
    "def gcdlcm(a, b):\n",
    "    \n",
    "    max_d = 0\n",
    "    min_d = 0\n",
    "    \n",
    "    less = min(a, b)\n",
    "    more = max(a, b)\n",
    "    \n",
    "    for i in range(1, less + 1):\n",
    "        if less % i == 0 and more % i == 0:     # a = max(두 수), b = min(두 수), (a, a % b) -> a, b = b, a % b -> a % b = 0이거나 b > 0인 지점까지 실시\n",
    "            max_d = i\n",
    "    \n",
    "    min_d = a * b / max_d\n",
    "    \n",
    "    if type(min_d) == float:\n",
    "        min_d = int(min_d)\n",
    "    if a == 0 or b == 0:\n",
    "        print(\"최소공배수와 최대공약수를 구할 수 없습니다.\")\n",
    "    \n",
    "    code = [max_d, min_d]\n",
    "    \n",
    "    return code"
   ]
  },
  {
   "cell_type": "code",
   "execution_count": null,
   "metadata": {},
   "outputs": [],
   "source": [
    "def gcdlcm(n, m):\n",
    "    a, b = max(n, m), min(n, m)\n",
    "    while b > 0:\n",
    "        a, b = b, a % b\n",
    "    return [a, int(n*m / a)]"
   ]
  },
  {
   "cell_type": "code",
   "execution_count": 18,
   "metadata": {},
   "outputs": [
    {
     "name": "stdout",
     "output_type": "stream",
     "text": [
      "[3, 12]\n",
      "[21, 52479]\n"
     ]
    }
   ],
   "source": [
    "print(gcdlcm(3, 12))\n",
    "print(gcdlcm(1071, 1029))"
   ]
  },
  {
   "cell_type": "markdown",
   "metadata": {},
   "source": [
    "## URL 편하게 만들기\n",
    "\n",
    "> url 패턴을 만들어 문자열을 반환하는 `my_url` 함수를 만들어봅시다.\n",
    ">\n",
    "> 영진위에서 제공하는 일별 박스오피스 API 서비스는 다음과 같은 방식으로 요청을 받습니다.\n",
    "\n",
    "```\n",
    "기본 요청 URL : http://www.kobis.or.kr/kobisopenapi/webservice/rest/boxoffice/searchDailyBoxOfficeList.json?\n",
    "```\n",
    "\n",
    "* key : 발급받은 키값(abc)\n",
    "* targetDt : yyyymmdd\n",
    "* itemPerPage : 1 ~ 10 **기본 10**\n",
    "---\n",
    "\n",
    "예시)\n",
    "```python\n",
    "api = {\n",
    "    'key': 'abc',\n",
    "    'targetDt': 'yyyymmdd'\n",
    "}\n",
    "my_url(**api)\n",
    "```\n",
    "\n",
    "예시 출력)\n",
    "```python\n",
    "'http://www.kobis.or.kr/kobisopenapi/webservice/rest/boxoffice/searchDailyBoxOfficeList.json?key=abc&targetDt=yyyymmdd&'\n",
    "```"
   ]
  },
  {
   "cell_type": "code",
   "execution_count": 50,
   "metadata": {},
   "outputs": [],
   "source": [
    "# 여기에 코드를 작성해주세요.\n",
    "def my_url(itemPerPage = 10, **args):  # 한 페이지에 몇 개가 나오는가?\n",
    "    url = \"http://www.kobis.or.kr/kobisopenapi/webservice/rest/boxoffice/searchDailyBoxOfficeList.json?\"\n",
    "    \n",
    "    api = {'key' : '430156241533f1d058c603178cc3ca0e',\n",
    "           'targetDt' : '20120101'\n",
    "    }\n",
    "    \n",
    "    api_url = url + \"itemPerPage=\" + str(itemPerPage)\n",
    "    \n",
    "    for key, value in api.items():\n",
    "        value = api[key]\n",
    "        api_url += f'{api[key]}=' + f'{value}&'\n",
    "        \n",
    "#   api_url = url + \"itemPerPage=\" + itemPerPage + \"key=\" + key + \"&targetDt=\" + targetDt + \"&\"\n",
    "    return api_url    "
   ]
  },
  {
   "cell_type": "code",
   "execution_count": 48,
   "metadata": {},
   "outputs": [
    {
     "data": {
      "text/plain": [
       "'http://www.kobis.or.kr/kobisopenapi/webservice/rest/boxoffice/searchDailyBoxOfficeList.json?itemPerPage=10key=430156241533f1d058c603178cc3ca0e&targetDt=20120101&'"
      ]
     },
     "execution_count": 48,
     "metadata": {},
     "output_type": "execute_result"
    }
   ],
   "source": [
    "def my_url(itemPerPage = 10, **args):\n",
    "    base_url = 'http://www.kobis.or.kr/kobisopenapi/webservice/rest/boxoffice/searchDailyBoxOfficeList.json?'\n",
    "    base_url += f'itemPerPage={itemPerPage}&'\n",
    "    for key, value in args.items():\n",
    "        base_url += f'{key}={value}&'\n",
    "    return base_url\n",
    "\n",
    "api = {'key' : '430156241533f1d058c603178cc3ca0e',\n",
    "       'targetDt' : '20120101'\n",
    "        }\n",
    "    \n",
    "my_url(**api)"
   ]
  },
  {
   "cell_type": "code",
   "execution_count": 47,
   "metadata": {},
   "outputs": [
    {
     "name": "stdout",
     "output_type": "stream",
     "text": [
      "http://www.kobis.or.kr/kobisopenapi/webservice/rest/boxoffice/searchDailyBoxOfficeList.json?itemPerPage=10430156241533f1d058c603178cc3ca0e=430156241533f1d058c603178cc3ca0e&20120101=20120101&\n"
     ]
    }
   ],
   "source": [
    "print(my_url(**api))"
   ]
  },
  {
   "cell_type": "code",
   "execution_count": 31,
   "metadata": {},
   "outputs": [],
   "source": [
    "api = {'key' : '430156241533f1d058c603178cc3ca0e',\n",
    "           'targetDt' : '20120101'\n",
    "    }"
   ]
  },
  {
   "cell_type": "code",
   "execution_count": 35,
   "metadata": {},
   "outputs": [
    {
     "name": "stdout",
     "output_type": "stream",
     "text": [
      "430156241533f1d058c603178cc3ca0e\n",
      "20120101\n"
     ]
    }
   ],
   "source": [
    "for key, value in api.items():\n",
    "    print(api[key])"
   ]
  },
  {
   "cell_type": "code",
   "execution_count": null,
   "metadata": {},
   "outputs": [],
   "source": []
  },
  {
   "cell_type": "markdown",
   "metadata": {},
   "source": [
    "## URL 검증하기\n",
    "\n",
    "> 이제 우리는 만들어진 요청 보내기전에 URL을 검증해야합니다. \n",
    ">\n",
    "> 앞선 설명을 참고하여 검증 로직을 구현하고 문자열을 반환하세요.\n",
    "\n",
    "```\n",
    "> 아래의 두가지 상황만 만들도록 하겠습니다. <\n",
    "\n",
    "1. key, targetDt가 없으면, '필수 요청변수가 누락되었습니다.'\n",
    "\n",
    "2. itemPerPage의 범위가 1~10을 넘어가면, '1~10까지의 값을 넣어주세요.'\n",
    "```"
   ]
  },
  {
   "cell_type": "code",
   "execution_count": 80,
   "metadata": {},
   "outputs": [
    {
     "name": "stdout",
     "output_type": "stream",
     "text": [
      "http://www.kobis.or.kr/kobisopenapi/webservice/rest/boxoffice/searchDailyBoxOfficeList.json?itemPerPage=10430156241533f1d058c603178cc3ca0e=430156241533f1d058c603178cc3ca0e&20120101=20120101&\n"
     ]
    }
   ],
   "source": [
    "# 여기에 코드를 작성해주세요.\n",
    "\n",
    "def my_url(itemPerPage = 10, **args):  # 한 페이지에 몇 개가 나오는가?\n",
    "    url = \"http://www.kobis.or.kr/kobisopenapi/webservice/rest/boxoffice/searchDailyBoxOfficeList.json?\"\n",
    "    \n",
    "    api = {'key' : '430156241533f1d058c603178cc3ca0e',\n",
    "           'targetDt' : '20120101'\n",
    "    }\n",
    "    \n",
    "    api_url = url + \"itemPerPage=\" + str(itemPerPage)\n",
    "    \n",
    "    for key, value in api.items():\n",
    "        value = api[key]\n",
    "        api_url += f'{api[key]}=' + f'{value}&'\n",
    "    \n",
    "    if (api[\"key\"] == \"\" or api[\"targetDt\"] == \"\") and itemPerPage > 10:\n",
    "        api_url = '필수 요청변수가 누락되었습니다. 1~10 까지의 값을 넣어주세요.'\n",
    "        return api_url\n",
    "    elif api[\"key\"] == \"\" or api[\"targetDt\"] == \"\":\n",
    "        api_url = '필수 요청변수가 누락되었습니다.'\n",
    "        return api_url\n",
    "    elif itemPerPage > 10:\n",
    "        api_url = '1~10 까지의 값을 넣어주세요.'\n",
    "        return api_url\n",
    "    else:   \n",
    "        return api_url  \n",
    "\n",
    "\n",
    "print(my_url(**api))\n",
    "\n",
    "# print(my_url(15, **api))"
   ]
  },
  {
   "cell_type": "code",
   "execution_count": 78,
   "metadata": {},
   "outputs": [
    {
     "data": {
      "text/plain": [
       "'http://www.kobis.or.kr/kobisopenapi/webservice/rest/boxoffice/searchDailyBoxOfficeList.json?itemPerPage=10&key=430156241533f1d058c603178cc3ca0e&targetDt=20120101&'"
      ]
     },
     "execution_count": 78,
     "metadata": {},
     "output_type": "execute_result"
    }
   ],
   "source": [
    "def my_url(itemPerPage = 10, **args):\n",
    "    if ('key' not in args or 'targetDt' not in args) and int(itemPerPage) not in range(1, 11):\n",
    "        return '필수 요청변수가 누락되었으며, 1~10까지의 값을 넣어주세요'\n",
    "    elif 'key' not in args or 'targetDt' not in args:\n",
    "        return '필수 요청변수가 누락되었습니다.'\n",
    "    elif int(itemPerPage) not in range(1, 11):\n",
    "        return '1~10까지의 값을 넣어주세요.'\n",
    "    else:\n",
    "        base_url = 'http://www.kobis.or.kr/kobisopenapi/webservice/rest/boxoffice/searchDailyBoxOfficeList.json?'\n",
    "        base_url += f'itemPerPage={itemPerPage}&'\n",
    "        for key, value in args.items():\n",
    "            base_url += f'{key}={value}&'\n",
    "        return base_url\n",
    "\n",
    "my_url(**api)"
   ]
  },
  {
   "cell_type": "code",
   "execution_count": null,
   "metadata": {},
   "outputs": [],
   "source": []
  },
  {
   "cell_type": "markdown",
   "metadata": {},
   "source": [
    "### 양축평가"
   ]
  },
  {
   "cell_type": "code",
   "execution_count": 81,
   "metadata": {},
   "outputs": [],
   "source": [
    "def return_test():\n",
    "    return '대전2반'\n",
    "\n",
    "def print_test():\n",
    "    print('대전2반')"
   ]
  },
  {
   "cell_type": "code",
   "execution_count": 82,
   "metadata": {},
   "outputs": [
    {
     "name": "stdout",
     "output_type": "stream",
     "text": [
      "우리는 대전2반 입니다.\n"
     ]
    }
   ],
   "source": [
    "print(f'우리는 {return_test()} 입니다.')"
   ]
  },
  {
   "cell_type": "code",
   "execution_count": 83,
   "metadata": {},
   "outputs": [
    {
     "name": "stdout",
     "output_type": "stream",
     "text": [
      "대전2반\n",
      "우리는 None 입니다.\n"
     ]
    }
   ],
   "source": [
    "print(f'우리는 {print_test()} 입니다.')   # 함수에 return값이 없어 자동으로 return None이 들어간다"
   ]
  },
  {
   "cell_type": "code",
   "execution_count": null,
   "metadata": {},
   "outputs": [],
   "source": []
  },
  {
   "cell_type": "code",
   "execution_count": null,
   "metadata": {},
   "outputs": [],
   "source": [
    "if 'key' not in args or 'targetDt' not in args:   # 합칠 수 있을지도...?"
   ]
  },
  {
   "cell_type": "code",
   "execution_count": null,
   "metadata": {},
   "outputs": [],
   "source": [
    "if ('key' or 'targetDt') not in args:   # 이렇게 하면 돌아갈지도...?"
   ]
  },
  {
   "cell_type": "code",
   "execution_count": 85,
   "metadata": {},
   "outputs": [],
   "source": [
    "vowel = 'aeiou'   # 이렇게 적어도 된다(굳이 리스트를 사용하지 않아도 된다)"
   ]
  },
  {
   "cell_type": "code",
   "execution_count": 86,
   "metadata": {},
   "outputs": [
    {
     "data": {
      "text/plain": [
       "False"
      ]
     },
     "execution_count": 86,
     "metadata": {},
     "output_type": "execute_result"
    }
   ],
   "source": [
    "('a' and 'b') in vowel"
   ]
  },
  {
   "cell_type": "code",
   "execution_count": 87,
   "metadata": {},
   "outputs": [
    {
     "data": {
      "text/plain": [
       "True"
      ]
     },
     "execution_count": 87,
     "metadata": {},
     "output_type": "execute_result"
    }
   ],
   "source": [
    "('b' and 'a') in vowel    # ???? -> and는 앞이 False여도 일단 뒤에 것까지 진행한다 -> 가능한 이렇게 적지 말고 풀어서 적을 것\n",
    "                          # 조건을 합치지 말고 따로따로 풀어서 적을 것"
   ]
  },
  {
   "cell_type": "code",
   "execution_count": 88,
   "metadata": {},
   "outputs": [
    {
     "data": {
      "text/plain": [
       "'b'"
      ]
     },
     "execution_count": 88,
     "metadata": {},
     "output_type": "execute_result"
    }
   ],
   "source": [
    "'a' and 'b'"
   ]
  },
  {
   "cell_type": "code",
   "execution_count": 89,
   "metadata": {},
   "outputs": [
    {
     "data": {
      "text/plain": [
       "'a'"
      ]
     },
     "execution_count": 89,
     "metadata": {},
     "output_type": "execute_result"
    }
   ],
   "source": [
    "'b' and 'a'"
   ]
  },
  {
   "cell_type": "code",
   "execution_count": 90,
   "metadata": {},
   "outputs": [
    {
     "data": {
      "text/plain": [
       "'a'"
      ]
     },
     "execution_count": 90,
     "metadata": {},
     "output_type": "execute_result"
    }
   ],
   "source": [
    "'a' or 'b'   # or는 하나만 True이면 되므로 앞에 것 출력"
   ]
  },
  {
   "cell_type": "code",
   "execution_count": 91,
   "metadata": {},
   "outputs": [
    {
     "data": {
      "text/plain": [
       "'b'"
      ]
     },
     "execution_count": 91,
     "metadata": {},
     "output_type": "execute_result"
    }
   ],
   "source": [
    "'b' or 'a'"
   ]
  },
  {
   "cell_type": "code",
   "execution_count": null,
   "metadata": {},
   "outputs": [],
   "source": []
  }
 ],
 "metadata": {
  "kernelspec": {
   "display_name": "Python 3",
   "language": "python",
   "name": "python3"
  },
  "language_info": {
   "codemirror_mode": {
    "name": "ipython",
    "version": 3
   },
   "file_extension": ".py",
   "mimetype": "text/x-python",
   "name": "python",
   "nbconvert_exporter": "python",
   "pygments_lexer": "ipython3",
   "version": "3.6.7"
  },
  "toc": {
   "base_numbering": 1,
   "nav_menu": {},
   "number_sections": true,
   "sideBar": true,
   "skip_h1_title": false,
   "title_cell": "Table of Contents",
   "title_sidebar": "Contents",
   "toc_cell": false,
   "toc_position": {},
   "toc_section_display": true,
   "toc_window_display": false
  }
 },
 "nbformat": 4,
 "nbformat_minor": 2
}
